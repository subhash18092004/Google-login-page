{
 "cells": [
  {
   "cell_type": "code",
   "execution_count": 3,
   "id": "3d172038-e65e-426f-8425-047f10c29466",
   "metadata": {},
   "outputs": [],
   "source": [
    "import tkinter\n",
    "from tkinter import *\n",
    "window = tkinter.Tk()\n",
    "window.title(\"Goole\")\n",
    "window.geometry(\"1080x560\")\n",
    "window.configure(background=\"white\")\n",
    "label1 = tkinter.Label(window, text=\"Google\",bg=\"red\",font=(\"Bold\",25)).pack()\n",
    "label2 = tkinter.Label(window,text=\"Sign in\",bg=\"white\",font=(\"Bold\",20)).pack()\n",
    "label3 = tkinter.Label(window,text=\"Not yoyr computer? Use Gust mode to sign in privately\",fg=\"Brown\",bg=\"white\",font=(\"bold\",20)).pack()\n",
    "b1 = Button(window,text=\"Email or phone\",fg=\"Blue\",bg=\"white\",font=(\"bold\",20))\n",
    "b1.pack()\n",
    "b2 = Button(window,text=\"Forget email?\",fg=\"Blue\",bg=\"white\",font=(\"bold\",20))\n",
    "b2.pack()\n",
    "b3 = Button(window,text=\"Learn more\",fg=\"white\",font=(\"bold\",20))\n",
    "b3.pack()\n",
    "b4 = Button(window,text=\"Create acount\",fg=\"blue\",bg=\"white\",font=(\"bold\",20))\n",
    "b4.pack()\n",
    "b5 = Button(window,text=\"next\",fg=\"white\",bg=\"blue\",font=(\"bold\",20))\n",
    "b5.pack()\n",
    "window.mainloop()"
   ]
  },
  {
   "cell_type": "code",
   "execution_count": null,
   "id": "8c0c89ed-3798-4d69-8683-800ad25abdef",
   "metadata": {},
   "outputs": [],
   "source": []
  }
 ],
 "metadata": {
  "kernelspec": {
   "display_name": "Python 3 (ipykernel)",
   "language": "python",
   "name": "python3"
  },
  "language_info": {
   "codemirror_mode": {
    "name": "ipython",
    "version": 3
   },
   "file_extension": ".py",
   "mimetype": "text/x-python",
   "name": "python",
   "nbconvert_exporter": "python",
   "pygments_lexer": "ipython3",
   "version": "3.12.4"
  }
 },
 "nbformat": 4,
 "nbformat_minor": 5
}
